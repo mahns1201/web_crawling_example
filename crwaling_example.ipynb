{
 "cells": [
  {
   "cell_type": "code",
   "execution_count": 1,
   "metadata": {},
   "outputs": [],
   "source": [
    "from bs4 import BeautifulSoup"
   ]
  },
  {
   "cell_type": "code",
   "execution_count": 2,
   "metadata": {},
   "outputs": [],
   "source": [
    "with open(\"example.html\") as fp:\n",
    "    soup = BeautifulSoup(fp, 'html.parser')"
   ]
  },
  {
   "cell_type": "code",
   "execution_count": 3,
   "metadata": {},
   "outputs": [
    {
     "name": "stdout",
     "output_type": "stream",
     "text": [
      "[<div>\n",
      "<p>a</p>\n",
      "<p>b</p>\n",
      "<p>c</p>\n",
      "</div>, <div class=\"ex_class\">\n",
      "<p>d</p>\n",
      "<p>e</p>\n",
      "<p>f</p>\n",
      "</div>, <div id=\"ex_id\">\n",
      "<p>g</p>\n",
      "<p>h</p>\n",
      "<p>i</p>\n",
      "</div>]\n"
     ]
    }
   ],
   "source": [
    "# find_all(): 해당 조건에 맞는 모든 태그를 가져온다.\n",
    "\n",
    "all_divs = soup.find_all('div')\n",
    "print(all_divs)"
   ]
  },
  {
   "cell_type": "code",
   "execution_count": 4,
   "metadata": {},
   "outputs": [
    {
     "name": "stdout",
     "output_type": "stream",
     "text": [
      "<div>\n",
      "<p>a</p>\n",
      "<p>b</p>\n",
      "<p>c</p>\n",
      "</div>\n"
     ]
    }
   ],
   "source": [
    "# find(): 해당 조건에 맞는 태그를 가져온다. 중복일 경우는 가장 첫 번째 태그를 가져온다.\n",
    "\n",
    "first_div = soup.find('div')\n",
    "print(first_div)"
   ]
  },
  {
   "cell_type": "code",
   "execution_count": 5,
   "metadata": {},
   "outputs": [
    {
     "name": "stdout",
     "output_type": "stream",
     "text": [
      "<div id=\"ex_id\">\n",
      "<p>g</p>\n",
      "<p>h</p>\n",
      "<p>i</p>\n",
      "</div>\n"
     ]
    }
   ],
   "source": [
    "# find('테그', {'속성' : '값'}): '테그'내에서 '속성'의 '값'을 넣어줘서 해당하는 값을 찾는다.\n",
    "\n",
    "attribute_div = soup.find('div', {'id' : 'ex_id'})\n",
    "print(attribute_div)"
   ]
  },
  {
   "cell_type": "code",
   "execution_count": 6,
   "metadata": {},
   "outputs": [
    {
     "name": "stdout",
     "output_type": "stream",
     "text": [
      "[<p>a</p>, <p>b</p>, <p>c</p>, <p>d</p>, <p>e</p>, <p>f</p>, <p>g</p>, <p>h</p>, <p>i</p>, <p>This is a paragraph.</p>, <p>This is another paragraph.</p>]\n"
     ]
    }
   ],
   "source": [
    "# select(): 원하는 정보가 있는 위치 정보 찾기. 'tag', 'class', 'id' 등을 이용해서 원하는 정보에 접근할 수 있다.\n",
    "\n",
    "p_select = soup.select('p')\n",
    "print(p_select)"
   ]
  }
 ],
 "metadata": {
  "kernelspec": {
   "display_name": "Python 3",
   "language": "python",
   "name": "python3"
  },
  "language_info": {
   "codemirror_mode": {
    "name": "ipython",
    "version": 3
   },
   "file_extension": ".py",
   "mimetype": "text/x-python",
   "name": "python",
   "nbconvert_exporter": "python",
   "pygments_lexer": "ipython3",
   "version": "3.7.7"
  }
 },
 "nbformat": 4,
 "nbformat_minor": 4
}
